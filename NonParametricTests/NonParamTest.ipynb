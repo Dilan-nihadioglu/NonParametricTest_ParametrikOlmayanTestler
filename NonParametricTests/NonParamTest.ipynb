{
 "cells": [
  {
   "cell_type": "markdown",
   "id": "68be7679-4bbe-4717-9009-1815e40df3cb",
   "metadata": {},
   "source": [
    "## Parametrik Olmayan Testler"
   ]
  },
  {
   "cell_type": "markdown",
   "id": "06c05ec8-6e4d-4601-9871-bed880c7b880",
   "metadata": {},
   "source": [
    "#### 1) Mann-Whitney U testi \n",
    "- Normal dağılım özelliği göstermeyen bir dağılımda iki bağımsız grup ortalamalarını karşılaştırmak amacıyla kullanılan non-parametrik bir yöntemdir."
   ]
  },
  {
   "cell_type": "code",
   "execution_count": 3,
   "id": "2bb016cb-e8c8-4734-b67b-f2310cb8e9df",
   "metadata": {},
   "outputs": [],
   "source": [
    "import pandas as pd\n",
    "import numpy as np"
   ]
  },
  {
   "cell_type": "code",
   "execution_count": 5,
   "id": "b3b4c330-4ddc-4552-9289-5ad3cfe49481",
   "metadata": {},
   "outputs": [
    {
     "data": {
      "text/html": [
       "<div>\n",
       "<style scoped>\n",
       "    .dataframe tbody tr th:only-of-type {\n",
       "        vertical-align: middle;\n",
       "    }\n",
       "\n",
       "    .dataframe tbody tr th {\n",
       "        vertical-align: top;\n",
       "    }\n",
       "\n",
       "    .dataframe thead th {\n",
       "        text-align: right;\n",
       "    }\n",
       "</style>\n",
       "<table border=\"1\" class=\"dataframe\">\n",
       "  <thead>\n",
       "    <tr style=\"text-align: right;\">\n",
       "      <th></th>\n",
       "      <th>age</th>\n",
       "      <th>sex</th>\n",
       "      <th>bmi</th>\n",
       "      <th>children</th>\n",
       "      <th>smoker</th>\n",
       "      <th>region</th>\n",
       "      <th>charges</th>\n",
       "    </tr>\n",
       "  </thead>\n",
       "  <tbody>\n",
       "    <tr>\n",
       "      <th>0</th>\n",
       "      <td>19</td>\n",
       "      <td>female</td>\n",
       "      <td>27.900</td>\n",
       "      <td>0</td>\n",
       "      <td>yes</td>\n",
       "      <td>southwest</td>\n",
       "      <td>16884.92400</td>\n",
       "    </tr>\n",
       "    <tr>\n",
       "      <th>1</th>\n",
       "      <td>18</td>\n",
       "      <td>male</td>\n",
       "      <td>33.770</td>\n",
       "      <td>1</td>\n",
       "      <td>no</td>\n",
       "      <td>southeast</td>\n",
       "      <td>1725.55230</td>\n",
       "    </tr>\n",
       "    <tr>\n",
       "      <th>2</th>\n",
       "      <td>28</td>\n",
       "      <td>male</td>\n",
       "      <td>33.000</td>\n",
       "      <td>3</td>\n",
       "      <td>no</td>\n",
       "      <td>southeast</td>\n",
       "      <td>4449.46200</td>\n",
       "    </tr>\n",
       "    <tr>\n",
       "      <th>3</th>\n",
       "      <td>33</td>\n",
       "      <td>male</td>\n",
       "      <td>22.705</td>\n",
       "      <td>0</td>\n",
       "      <td>no</td>\n",
       "      <td>northwest</td>\n",
       "      <td>21984.47061</td>\n",
       "    </tr>\n",
       "    <tr>\n",
       "      <th>4</th>\n",
       "      <td>32</td>\n",
       "      <td>male</td>\n",
       "      <td>28.880</td>\n",
       "      <td>0</td>\n",
       "      <td>no</td>\n",
       "      <td>northwest</td>\n",
       "      <td>3866.85520</td>\n",
       "    </tr>\n",
       "  </tbody>\n",
       "</table>\n",
       "</div>"
      ],
      "text/plain": [
       "   age     sex     bmi  children smoker     region      charges\n",
       "0   19  female  27.900         0    yes  southwest  16884.92400\n",
       "1   18    male  33.770         1     no  southeast   1725.55230\n",
       "2   28    male  33.000         3     no  southeast   4449.46200\n",
       "3   33    male  22.705         0     no  northwest  21984.47061\n",
       "4   32    male  28.880         0     no  northwest   3866.85520"
      ]
     },
     "execution_count": 5,
     "metadata": {},
     "output_type": "execute_result"
    }
   ],
   "source": [
    "df=pd.read_csv(\"insurance.csv\")\n",
    "df.head()"
   ]
  },
  {
   "cell_type": "markdown",
   "id": "c3d27860-147e-4b98-a753-4c44605acbc8",
   "metadata": {},
   "source": [
    "**Soru 1 :** Veri setinde, sigara içen ve içmeyen bireylerin sağlık harcamaları bulunmaktadır. Bu iki grubun sağlık harcamaları (charges) arasında anlamlı bir fark olup olmadığını inceleyiniz.\n",
    "- **H0:** Sigara içen ve içmeyen bireylerin arasında ortalama sağlık harcamaları açısından anlamlı bir fark yoktur.\n",
    "- **H1:** Sigara içen ve içmeyen bireylerin arasında ortalama sağlık harcamaları açısından anlamlı bir fark vardır."
   ]
  },
  {
   "cell_type": "code",
   "execution_count": 12,
   "id": "e5219ca9-4e43-4225-8d10-76a87307fe04",
   "metadata": {},
   "outputs": [],
   "source": [
    "smokers = df[df['smoker'] == 'yes']['charges']\n",
    "non_smokers = df[df['smoker'] == 'no']['charges']"
   ]
  },
  {
   "cell_type": "code",
   "execution_count": 14,
   "id": "027ae0da-8af7-467d-ad18-3d73c5ff5f3b",
   "metadata": {},
   "outputs": [],
   "source": [
    "from scipy.stats import mannwhitneyu"
   ]
  },
  {
   "cell_type": "code",
   "execution_count": 16,
   "id": "07e4cc8f-43ae-41d1-9069-4f98782ccaf7",
   "metadata": {},
   "outputs": [
    {
     "name": "stdout",
     "output_type": "stream",
     "text": [
      "U İstatistiği: 284133.0\n",
      "P-Değeri: 5.270233444503571e-130\n"
     ]
    }
   ],
   "source": [
    "# Mann-Whitney U testini uygulayın\n",
    "u_statistic, p_value = mannwhitneyu(smokers, non_smokers)\n",
    "\n",
    "# Sonuçları yazdırın\n",
    "print(f'U İstatistiği: {u_statistic}')\n",
    "print(f'P-Değeri: {p_value}')"
   ]
  },
  {
   "cell_type": "code",
   "execution_count": 20,
   "id": "67f2ac27-ae53-499f-94b5-1c47a6805bb1",
   "metadata": {},
   "outputs": [
    {
     "name": "stdout",
     "output_type": "stream",
     "text": [
      "H1 kabul edilir.Sigara içenler ve içmeyenler arasında sağlık harcamaları açısından anlamlı bir fark vardır.\n"
     ]
    }
   ],
   "source": [
    "# Hipotez testi sonucu\n",
    "if p_value > 0.05:\n",
    "    print(\"H0 kabul edilir.Sigara içenler ve içmeyenler arasında sağlık harcamaları açısından anlamlı bir fark yoktur.\")\n",
    "else:\n",
    "    print(\"H1 kabul edilir.Sigara içenler ve içmeyenler arasında sağlık harcamaları açısından anlamlı bir fark vardır.\")"
   ]
  },
  {
   "cell_type": "markdown",
   "id": "2d6faef8-d46b-47cc-90ee-666d82c37472",
   "metadata": {},
   "source": [
    "**Soru 2:** Aşağıda N=23 olan bir grubun sözel yetenek testinden elde edilen puanlarla cinsiyet değişkenine ilişkin dağılımlar sunulmuştur. Sözel yetenek puanlarının cinsiyet değişkenine göre istatistiksel açıdan anlamlı bir farklılık gösterip göstermediğini test ediniz."
   ]
  },
  {
   "cell_type": "markdown",
   "id": "acdc5da1-4d24-4044-9428-53d386cd9d9d",
   "metadata": {},
   "source": [
    "- **H0:** Kız ve erkek grupları arasında sözel yetenek puanları açısından anlamlı bir fark yoktur.\n",
    "- **H1:** Kız ve erkek grupları arasında sözel yetenek puanları açısından anlamlı bir fark vardır."
   ]
  },
  {
   "cell_type": "code",
   "execution_count": 2,
   "id": "0402fba0-7160-4b0c-8330-7dfc92319e6c",
   "metadata": {},
   "outputs": [],
   "source": [
    "import numpy as np\n",
    "from scipy.stats import mannwhitneyu"
   ]
  },
  {
   "cell_type": "code",
   "execution_count": 4,
   "id": "eb021edf-bc15-46b2-b15f-240ebb8047c6",
   "metadata": {},
   "outputs": [],
   "source": [
    "# Veriler\n",
    "kiz_sira = [19, 11, 14.5, 5, 6, 11, 21, 23, 22, 20, 17]\n",
    "erkek_sira = [11, 18, 16, 4, 8, 11, 2.5, 3, 2.5, 11, 14.5, 7]"
   ]
  },
  {
   "cell_type": "code",
   "execution_count": 6,
   "id": "5f63cdca-aab0-4efb-814a-d5dbbaacb989",
   "metadata": {},
   "outputs": [
    {
     "name": "stdout",
     "output_type": "stream",
     "text": [
      "Test İstatistiği (U değeri): 103.5\n",
      "p-değeri: 0.02204042799083198\n"
     ]
    }
   ],
   "source": [
    "# Mann-Whitney U Testi\n",
    "stat, p_value = mannwhitneyu(kiz_sira, erkek_sira, alternative='two-sided')\n",
    "\n",
    "# Test İstatistiği ve p-değeri\n",
    "print('Test İstatistiği (U değeri):', stat)\n",
    "print('p-değeri:', p_value)"
   ]
  },
  {
   "cell_type": "code",
   "execution_count": 8,
   "id": "fdc8e9ec-fc9e-4abf-946b-3e4fe278d662",
   "metadata": {},
   "outputs": [
    {
     "name": "stdout",
     "output_type": "stream",
     "text": [
      "Sonuç: p-değeri 0.02204042799083198  olduğundan H0 hipotezi reddedilir.\n",
      "Kız ve erkek grupları arasında sözel yetenek puanları açısından anlamlı bir fark vardır.\n"
     ]
    }
   ],
   "source": [
    "alpha = 0.05  # Anlamlılık seviyesi\n",
    "\n",
    "if p_value < alpha:\n",
    "    print('Sonuç: p-değeri', p_value, ' olduğundan H0 hipotezi reddedilir.')\n",
    "    print('Kız ve erkek grupları arasında sözel yetenek puanları açısından anlamlı bir fark vardır.')\n",
    "else:\n",
    "    print('Sonuç: p-değeri', p_value, ' olduğundan H0 hipotezi kabul edilir.')\n",
    "    print('Kız ve erkek grupları arasında sözel yetenek puanları açısından anlamlı bir fark yoktur.')"
   ]
  },
  {
   "cell_type": "markdown",
   "id": "77eb6dda-b9f8-4dcb-bd13-cba01f3d35dd",
   "metadata": {},
   "source": [
    "#### 2) Kruskal Wallis-H Testi"
   ]
  },
  {
   "cell_type": "markdown",
   "id": "08198615-50d3-45df-9ac6-fa9ed22d8189",
   "metadata": {},
   "source": [
    "- Normal dağılım göstermeyen gruplarda üç veya daha fazla sayıda grubun ortalamaları arasındaki farklılığın anlamlılığını test amacıyla kullanılan bir tekniktir. One-Way ANOVA’nın non-parametrik karşılığıdır."
   ]
  },
  {
   "cell_type": "markdown",
   "id": "d875b0d3-ebe3-4631-bc47-133a9208a32b",
   "metadata": {},
   "source": [
    "**Soru 4:** Sigorta ücretlerinin farklı bölgeler arasında anlamlı bir şekilde değişip değişmediğini inceleyiniz.\n",
    "- **H0:** Region değişkenine göre charges değişkeninin medyanları arasında istatistiksel olarak anlamlı bir fark yoktur.\n",
    "- **H1:** Region değişkenine göre charges değişkeninin medyanları arasında istatistiksel olarak anlamlı bir fark vardır."
   ]
  },
  {
   "cell_type": "code",
   "execution_count": 70,
   "id": "3e28acad-b8a9-407e-93b8-9c8c9b3260e2",
   "metadata": {},
   "outputs": [],
   "source": [
    "# Bölgelere göre sigorta ücretlerini gruplandır\n",
    "groups = [df[df['region'] == region]['charges'] for region in df['region'].unique()]"
   ]
  },
  {
   "cell_type": "code",
   "execution_count": 65,
   "id": "0bbadcbd-7dee-46d1-8aa6-e958964f8fba",
   "metadata": {},
   "outputs": [
    {
     "name": "stdout",
     "output_type": "stream",
     "text": [
      "Kruskal-Wallis İstatistiği: 4.734181215658743\n",
      "P-Değeri: 0.19232908072121002\n"
     ]
    }
   ],
   "source": [
    "# Kruskal-Wallis Testi uygulayın\n",
    "statistic, p_value = kruskal(*groups)\n",
    "\n",
    "# Sonuçları yazdırın\n",
    "print(f'Kruskal-Wallis İstatistiği: {statistic}')\n",
    "print(f'P-Değeri: {p_value}')\n"
   ]
  },
  {
   "cell_type": "code",
   "execution_count": 73,
   "id": "4e1d22aa-a644-4a4a-858b-6b201c72ee93",
   "metadata": {},
   "outputs": [
    {
     "name": "stdout",
     "output_type": "stream",
     "text": [
      "H0 kabul edilir.Sigorta ücretleri, bölgeler arasında anlamlı bir fark göstermemektedir.\n"
     ]
    }
   ],
   "source": [
    "# Hipotez testi sonucu\n",
    "if p_value < 0.05:\n",
    "    print(\"H0 reddedilir.Sigorta ücretleri, bölgeler arasında anlamlı bir şekilde farklıdır.\")\n",
    "else:\n",
    "    print(\"H0 kabul edilir.Sigorta ücretleri, bölgeler arasında anlamlı bir fark göstermemektedir.\")"
   ]
  },
  {
   "cell_type": "markdown",
   "id": "bd2e9646-276b-4905-a33c-c66e000d50cf",
   "metadata": {},
   "source": [
    "#### 3)Wilcoxon İşaret Sıralaması Testi\n",
    "- Wilcoxon İşaret Sıralaması Testi, özellikle küçük örneklem büyüklükleri veya veri dağılımlarının normal olmadığı durumlarda kullanılır. Bu test, iki eşleştirilmiş örneğin (örneğin, aynı grubun iki farklı zaman noktasındaki ölçümleri) medyanlarının arasında anlamlı bir fark olup olmadığını belirlemek için tasarlanmıştır."
   ]
  },
  {
   "cell_type": "code",
   "execution_count": 26,
   "id": "b1de1df0-d768-4dec-8144-5fe45a32c53c",
   "metadata": {},
   "outputs": [],
   "source": [
    "#Veri seti kurgusaldır ve müdahaleden önce ve sonra kan basıncı ölçümlerini içerir. Bunlar “bp_before” ve “bp_after” değişkenleridir."
   ]
  },
  {
   "cell_type": "code",
   "execution_count": 32,
   "id": "adf6e483-5af3-4ea1-9623-16c30b715ffb",
   "metadata": {},
   "outputs": [],
   "source": [
    "data = pd.read_csv(\"gfg_data.csv\")"
   ]
  },
  {
   "cell_type": "code",
   "execution_count": 34,
   "id": "80df53d4-e3e8-4aaf-923e-734d1b4f6b2d",
   "metadata": {},
   "outputs": [
    {
     "data": {
      "text/html": [
       "<div>\n",
       "<style scoped>\n",
       "    .dataframe tbody tr th:only-of-type {\n",
       "        vertical-align: middle;\n",
       "    }\n",
       "\n",
       "    .dataframe tbody tr th {\n",
       "        vertical-align: top;\n",
       "    }\n",
       "\n",
       "    .dataframe thead th {\n",
       "        text-align: right;\n",
       "    }\n",
       "</style>\n",
       "<table border=\"1\" class=\"dataframe\">\n",
       "  <thead>\n",
       "    <tr style=\"text-align: right;\">\n",
       "      <th></th>\n",
       "      <th>bp_before</th>\n",
       "      <th>bp_after</th>\n",
       "    </tr>\n",
       "  </thead>\n",
       "  <tbody>\n",
       "    <tr>\n",
       "      <th>0</th>\n",
       "      <td>143</td>\n",
       "      <td>153</td>\n",
       "    </tr>\n",
       "    <tr>\n",
       "      <th>1</th>\n",
       "      <td>163</td>\n",
       "      <td>170</td>\n",
       "    </tr>\n",
       "    <tr>\n",
       "      <th>2</th>\n",
       "      <td>153</td>\n",
       "      <td>168</td>\n",
       "    </tr>\n",
       "    <tr>\n",
       "      <th>3</th>\n",
       "      <td>153</td>\n",
       "      <td>142</td>\n",
       "    </tr>\n",
       "    <tr>\n",
       "      <th>4</th>\n",
       "      <td>146</td>\n",
       "      <td>141</td>\n",
       "    </tr>\n",
       "  </tbody>\n",
       "</table>\n",
       "</div>"
      ],
      "text/plain": [
       "   bp_before  bp_after\n",
       "0        143       153\n",
       "1        163       170\n",
       "2        153       168\n",
       "3        153       142\n",
       "4        146       141"
      ]
     },
     "execution_count": 34,
     "metadata": {},
     "output_type": "execute_result"
    }
   ],
   "source": [
    "data.head()"
   ]
  },
  {
   "cell_type": "markdown",
   "id": "e25ed562-87bf-4d04-80e4-5138015af34d",
   "metadata": {},
   "source": [
    "**Soru 3:** Bir tedavi ya da müdahale sonrasında bireylerin kan basıncında anlamlı bir değişiklik olup olmadığını belirleyiniz.\n",
    "- **H0:** Tedavi öncesi ve sonrası kan basıncı değerleri arasında anlamlı bir fark yoktur (medyanlar eşittir).\n",
    "- **H1:** Tedavi öncesi ve sonrası kan basıncı değerleri arasında anlamlı bir fark vardır (medyanlar eşit değildir)."
   ]
  },
  {
   "cell_type": "code",
   "execution_count": 39,
   "id": "e6b04715-62da-453c-b8ef-dea721c0a794",
   "metadata": {},
   "outputs": [],
   "source": [
    "import pandas as pd\n",
    "from scipy.stats import wilcoxon"
   ]
  },
  {
   "cell_type": "code",
   "execution_count": 41,
   "id": "6c4e03b7-5d38-4a1f-a31c-e90cf83092e5",
   "metadata": {},
   "outputs": [
    {
     "name": "stdout",
     "output_type": "stream",
     "text": [
      "Test İstatistiği: 2234.5\n",
      "P-Değeri: 0.0014107333565442858\n"
     ]
    }
   ],
   "source": [
    "test_statistic, p_value = wilcoxon(data[\"bp_before\"], data[\"bp_after\"])\n",
    "# Sonuçları yazdırın\n",
    "print(f'Test İstatistiği: {test_statistic}')\n",
    "print(f'P-Değeri: {p_value}')"
   ]
  },
  {
   "cell_type": "code",
   "execution_count": 45,
   "id": "6507f11a-2461-484f-9c25-89625a353c91",
   "metadata": {},
   "outputs": [
    {
     "name": "stdout",
     "output_type": "stream",
     "text": [
      "H0 reddedilir.Tedavi öncesi ve sonrası kan basıncı değerleri arasında anlamlı bir fark vardır.\n"
     ]
    }
   ],
   "source": [
    "# Hipotez testi sonucu\n",
    "if p_value < 0.05:\n",
    "    print(\"H0 reddedilir.Tedavi öncesi ve sonrası kan basıncı değerleri arasında anlamlı bir fark vardır.\")\n",
    "else:\n",
    "    print(\"H0 kabul edilir.Tedavi öncesi ve sonrası kan basıncı değerleri arasında anlamlı bir fark yoktur.\")"
   ]
  },
  {
   "cell_type": "markdown",
   "id": "526275cc-bb60-4481-b8d0-e42f90c2cc76",
   "metadata": {},
   "source": [
    "#### 4)FRIEDMAN TESTİ"
   ]
  },
  {
   "cell_type": "markdown",
   "id": "61a484b7-c7ab-4091-ae22-1b85f94acc52",
   "metadata": {},
   "source": [
    "**Soru 5:** Bir araştırmacı, hastaların üç farklı ilaç üzerindeki tepki sürelerinin eşit olup olmadığını bilmek istiyor. Bunu test etmek için, 10 farklı hastanın üç ilacın her birinde tepki süresini (saniye cinsinden) ölçüyor.İlaçlar arasında ortalama reaksiyon süresinin farklı olup olmadığını belirlemek için Friedman Testi'ni gerçekleştirin."
   ]
  },
  {
   "cell_type": "markdown",
   "id": "d09b5726-3298-42ec-bba0-36ef001b796d",
   "metadata": {},
   "source": [
    "- **H0:**  Her popülasyonun ortalaması eşittir.\n",
    "\n",
    "- **H1:**  En az bir popülasyon ortalaması diğerlerinden farklıdır."
   ]
  },
  {
   "cell_type": "code",
   "execution_count": 79,
   "id": "db1a0734-8e12-462d-84e9-61df98c5b2bc",
   "metadata": {},
   "outputs": [],
   "source": [
    "group1 = [4, 6, 3, 4, 3, 2, 2, 7, 6, 5]\n",
    "group2 = [5, 6, 8, 7, 7, 8, 4, 6, 4, 5]\n",
    "group3 = [2, 4, 4, 3, 2, 2, 1, 4, 3, 2]"
   ]
  },
  {
   "cell_type": "code",
   "execution_count": 81,
   "id": "b36b74cc-3352-46a5-8eb1-1c49e2978116",
   "metadata": {},
   "outputs": [],
   "source": [
    "from scipy import stats\n",
    "\n",
    "#perform Friedman Test\n",
    "stat,p_value = stats.friedmanchisquare(group1, group2, group3)\n"
   ]
  },
  {
   "cell_type": "code",
   "execution_count": 83,
   "id": "1748ef78-2b19-4bbc-a5c6-e94a6251bd93",
   "metadata": {},
   "outputs": [
    {
     "name": "stdout",
     "output_type": "stream",
     "text": [
      "H0 reddedilir.En az bir popülasyon ortalaması diğerlerinden farklıdır.\n"
     ]
    }
   ],
   "source": [
    "# Hipotez testi sonucu\n",
    "if p_value < 0.05:\n",
    "    print(\"H0 reddedilir.En az bir popülasyon ortalaması diğerlerinden farklıdır.\")\n",
    "else:\n",
    "    print(\"H0 kabul edilir.Her popülasyonun ortalaması eşittir.\")"
   ]
  },
  {
   "cell_type": "markdown",
   "id": "650dcba4-a097-40b8-88cf-d6f6f6919b7e",
   "metadata": {},
   "source": [
    "- Bu örnekte, test istatistiği  13.3514'tür  ve buna karşılık gelen p değeri p =  0.00126'dır . Bu p değeri 0.05'ten küçük olduğundan, ortalama yanıt süresinin üç ilaç için de aynı olduğu şeklindeki sıfır hipotezini reddedebiliriz."
   ]
  }
 ],
 "metadata": {
  "kernelspec": {
   "display_name": "Python 3 (ipykernel)",
   "language": "python",
   "name": "python3"
  },
  "language_info": {
   "codemirror_mode": {
    "name": "ipython",
    "version": 3
   },
   "file_extension": ".py",
   "mimetype": "text/x-python",
   "name": "python",
   "nbconvert_exporter": "python",
   "pygments_lexer": "ipython3",
   "version": "3.12.4"
  }
 },
 "nbformat": 4,
 "nbformat_minor": 5
}
